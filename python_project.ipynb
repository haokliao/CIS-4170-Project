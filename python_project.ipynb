{
 "cells": [
  {
   "cell_type": "markdown",
   "metadata": {},
   "source": [
    "# Exploring NYCDOH's Violations Dataset\n",
    "\n",
    "Lucky, a software engineer from Arizona is looking to move to New York! They're looking for an apartment to rent, and in doing so are looking for neighborhoods to avoid. They've asked us to help them with their research, to help narrow down their streeteasy filters, as... well they're a fan of hot water and really hate rodents. \n",
    "\n",
    "As a result, we're getting two birds with one stone:\n",
    "\n",
    " We get to work on our data wrangling and data visualization skills, and also help out a friend in need! So let's dive in!"
   ]
  },
  {
   "cell_type": "code",
   "execution_count": 17,
   "metadata": {},
   "outputs": [],
   "source": [
    "import pandas as pd\n",
    "import hvplot.pandas  \n",
    "import geopandas as gpd\n",
    "\n",
    "import plotly.express as px \n",
    "\n",
    "import panel as pn\n",
    "pn.extension()\n",
    "import holoviews as hv\n",
    "hv.extension('bokeh')\n",
    "import warnings\n",
    "warnings.filterwarnings('ignore')"
   ]
  },
  {
   "cell_type": "code",
   "execution_count": 3,
   "metadata": {},
   "outputs": [],
   "source": [
    "#uncomment and run for cleaned CSV file\n",
    "\n",
    "# import data_cleaning\n",
    "# closed_violations = data_cleaning.clean('Housing_Maintenance_Code_Violations.csv')\n",
    "# closed_violations.to_csv('Housing_Maintenance_CV_cleaned.csv')"
   ]
  },
  {
   "cell_type": "code",
   "execution_count": 6,
   "metadata": {},
   "outputs": [],
   "source": [
    "closed_violations = pd.read_csv('Housing_Maintenance_CV_cleaned.csv')"
   ]
  },
  {
   "cell_type": "markdown",
   "metadata": {},
   "source": [
    "### Looking Through Time:\n",
    "\n",
    "Inserting blurb about looking at things over time\n",
    "\n",
    "To first help Lucky, we want to look at violations over a period of time which, in our current case, we'll go with violations past the year 2000.\n",
    "This will help us look at trends and allow us to filter things by year, and hopefully filter out some bad apartments!"
   ]
  },
  {
   "cell_type": "markdown",
   "metadata": {},
   "source": [
    "We'll primarily be manipulating two columns to help us in our analysis: InspectionDate and OriginalCorrectByDate\n",
    "\n",
    "**InspectionDate** column is when the violation was observed  <br>\n",
    "**OriginalCorrectByDate** is when the owner was expected to correct the violation by\n",
    "\n",
    "Out of those two, we'll be creating two new columns:\n",
    "\n",
    "**ViolationLength**: The length of time from Inspection date to the Date that owner should have corrected their violation <br>\n",
    "**ViolationYear**: The year in which the Inspection was given\n",
    "\n",
    "This will help us with our visualizations and plotting things over time"
   ]
  },
  {
   "cell_type": "markdown",
   "metadata": {},
   "source": [
    "Our first visualization is going to be showing the amount of violations over time! "
   ]
  },
  {
   "cell_type": "markdown",
   "metadata": {},
   "source": [
    "#### Length of Violations on Average per Year by Class"
   ]
  },
  {
   "cell_type": "code",
   "execution_count": 7,
   "metadata": {},
   "outputs": [],
   "source": [
    "violation_length = closed_violations.groupby(['Class','ViolationYear'])['ViolationLength'].mean().reset_index().round(2)\n",
    "vio_length = list(violation_length.Class.unique())\n"
   ]
  },
  {
   "cell_type": "code",
   "execution_count": 8,
   "metadata": {},
   "outputs": [],
   "source": [
    "first_select = pn.widgets.Select(name='Select Class:', value='A', options= vio_length)\n",
    "\n",
    "@pn.depends(first_select)\n",
    "def violation_length_plot(vio_length):\n",
    "  return violation_length[violation_length['Class']==vio_length].hvplot('ViolationYear','ViolationLength',kind='line',yformatter='%.0f', color=\"#EF830F\", title='Average Violation Lengths by Year (and Class)')"
   ]
  },
  {
   "cell_type": "markdown",
   "metadata": {},
   "source": [
    "This data follows expectations: On average, the timeframe given to resolve complaints is larger for Class A Violations (Least Serious) than for Class C Violations (Most Serious)"
   ]
  },
  {
   "cell_type": "markdown",
   "metadata": {},
   "source": [
    "## Class Violations by Borough\n",
    "Now that we've explored violations over time, let's look at violations within boroughs.\n",
    "Lucky is primarily looking to live in Brooklyn, as it's close to their friends and has a lot of cool coffee shops and climbing gyms.\n",
    "But before we deep dive into the Brooklyn areas, let's get the bigger picture"
   ]
  },
  {
   "cell_type": "code",
   "execution_count": 9,
   "metadata": {},
   "outputs": [],
   "source": [
    "violations_by_borough = closed_violations.groupby(['Class','Borough'])['ViolationID'].count().reset_index(name='Count')\n",
    "class_violations = list(violations_by_borough.Class.unique())\n"
   ]
  },
  {
   "cell_type": "code",
   "execution_count": 10,
   "metadata": {},
   "outputs": [],
   "source": [
    "second_select = pn.widgets.Select(name='Select Class:', value='C', options= class_violations)\n",
    "\n",
    "\n",
    "@pn.depends(second_select)\n",
    "def violations_by_borough_plot(class_violations):\n",
    "  return violations_by_borough[violations_by_borough['Class']==class_violations].hvplot('Borough','Count',kind='bar',yformatter='%.0f', color=\"#ff6f69\", title='Violations by Borough (and Class)')"
   ]
  },
  {
   "cell_type": "code",
   "execution_count": 11,
   "metadata": {},
   "outputs": [],
   "source": [
    "uZip = pn.widgets.TextInput(name=\"Enter the zipcode\", value='11213', width=100)\n",
    "\n",
    "@pn.depends(uZip)\n",
    "def plotly_vioMap(paramZip):\n",
    "  postcode_Violations = closed_violations[closed_violations['Postcode'] == paramZip]\n",
    "\n",
    "  figMapbox = px.scatter_mapbox(\n",
    "                          postcode_Violations,\n",
    "                          lat=postcode_Violations.Latitude,\n",
    "                          lon=postcode_Violations.Longitude,\n",
    "                          color='Class',\n",
    "                          hover_name=\"Address\",\n",
    "                          hover_data=['Class'],\n",
    "                          opacity=.2,\n",
    "                          mapbox_style='carto-positron',\n",
    "                          zoom=13)\n",
    "\n",
    "  return figMapbox"
   ]
  },
  {
   "cell_type": "code",
   "execution_count": 18,
   "metadata": {},
   "outputs": [],
   "source": [
    "class_c_violations = closed_violations[closed_violations['Class']=='C'] \n",
    "closed_violations['Address']=closed_violations['HouseNumber']+ ' '+ closed_violations['StreetName']\n",
    "\n",
    "ntaVIO= class_c_violations.groupby(['NTA'])['BuildingID'].count().reset_index()\n",
    "ntaVIO.rename(columns={'BuildingID':'Count'}, inplace=True)\n",
    "ntaShape = gpd.read_file(\"NTA map.geojson\")"
   ]
  },
  {
   "cell_type": "code",
   "execution_count": 19,
   "metadata": {},
   "outputs": [],
   "source": [
    "# step 1: get the list of all number of violations\n",
    "vioAMOUNT= ntaVIO[ntaVIO['Count']<= 1000000]\n",
    "\n",
    "# Step 2: Now groupby this data by neightborhood .sum() to get a count by NTA\n",
    "vioTotalAmt = vioAMOUNT.groupby(['NTA'])['Count'].sum().reset_index() # resetting to return df\n",
    "\n",
    "#3 Merge the count by NTA/COUNT dataset and nta SHAPE files on NTA field\n",
    "\n",
    "vioAmtShape = pd.merge(ntaShape,vioTotalAmt, \n",
    "                      how='inner', \n",
    "                      left_on='ntaname', right_on='NTA')\n",
    "\n",
    "#set index of merged DF to zipcode field\n",
    "vioAmtShape.set_index(\"NTA\", inplace=True)\n",
    "\n",
    "\n",
    "# Use the choropleth_mapbox and it's attributes to set desired visual properties\n",
    "figVioPxChoro = px.choropleth_mapbox(vioAmtShape,\n",
    "                          geojson=vioAmtShape.geometry,\n",
    "                          locations=vioAmtShape.index,\n",
    "                          color=\"Count\",\n",
    "                          color_continuous_scale=px.colors.sequential.Teal, \n",
    "                          \n",
    "                          center={\"lat\": 40.754932, \"lon\": -73.984016}, \n",
    "                          mapbox_style=\"carto-positron\",\n",
    "                          zoom=9)"
   ]
  },
  {
   "cell_type": "code",
   "execution_count": 26,
   "metadata": {},
   "outputs": [],
   "source": [
    "# Add the year slider with ranges set to min and max values of violation counts in the above merged dataset\n",
    "vioSlider=pn.widgets.IntSlider(name=\"Slide to see  class C violation totals by neighborhood\",\n",
    "                              start=int(min(ntaVIO['Count'])),\n",
    "                              end=int(max(ntaVIO['Count'])),\n",
    "                              value=2000)\n",
    "#this chart allows the user to slide through violation amounts\n",
    "\n",
    "@pn.depends(vioSlider)\n",
    "def plotly_violationSliderChoroMap(paramSlider):\n",
    "    # step 1: get the list of all number of vacated units\n",
    "    vioAMOUNT= ntaVIO[ntaVIO['Count']<= paramSlider]\n",
    "\n",
    "# Step 2: Now groupby this data on zipcode and perform .sum() to get a count by zipcode\n",
    "    vioTotalAmt = vioAMOUNT.groupby(['NTA'])['Count'].sum().reset_index() # resetting to return df\n",
    "\n",
    "#3 Merge the count by zipcode/vacate dataset and zip SHAPE files on zipcode field\n",
    "\n",
    "    vioAmtShape = pd.merge(ntaShape,vioTotalAmt, \n",
    "                              how='inner', \n",
    "                              left_on='ntaname', right_on='NTA')\n",
    "\n",
    "#set index of merged DF to zipcode field\n",
    "    vioAmtShape.set_index(\"NTA\", inplace=True)\n",
    "\n",
    "\n",
    "# Use the choropleth_mapbox and it's attributes to set desired visual properties\n",
    "    figPxChoro = px.choropleth_mapbox(vioAmtShape,\n",
    "                          geojson=vioAmtShape.geometry,\n",
    "                          locations=vioAmtShape.index,\n",
    "                          color=\"Count\",\n",
    "                          color_continuous_scale=px.colors.sequential.Teal, \n",
    "                          \n",
    "                          center={\"lat\": 40.754932, \"lon\": -73.984016}, \n",
    "                          mapbox_style=\"carto-positron\",\n",
    "                          zoom=9)\n",
    "\n",
    "# Return the figure container\n",
    "    return figPxChoro"
   ]
  },
  {
   "cell_type": "code",
   "execution_count": 46,
   "metadata": {},
   "outputs": [],
   "source": [
    "uNTAcode = pn.widgets.MultiChoice(name='Select Neighborhood:',\n",
    "                                  value=['Crown Heights North','Flatbush'],\n",
    "                                  options=list(closed_violations.NTA.unique()),\n",
    "                                  max_items= 200)\n",
    "uNTAcode\n",
    "\n",
    "#more useful chloro map with options to pick specific neighberhoods\n",
    "\n",
    "@pn.depends(uNTAcode)\n",
    "def plotly_violationChoroMap(uSelect):\n",
    "  \n",
    "  # step 1: get the list of all number of violations\n",
    "  vioAMOUNT= ntaVIO[ntaVIO['NTA'].isin(uSelect)]\n",
    "\n",
    "# Step 2: Now groupby this data on NTA and perform .sum() to get a count by neighborhood\n",
    "  vioTotalAmt= vioAMOUNT.groupby(['NTA'])['Count'].sum().reset_index() \n",
    "\n",
    "#3 Merge the count by nta/count dataset and NTA SHAPE files on NTA field\n",
    "\n",
    "  vioAmtShape = pd.merge(ntaShape,vioTotalAmt, \n",
    "                            how='inner', \n",
    "                            left_on='ntaname', right_on='NTA')\n",
    "\n",
    "#set index of merged DF to NTA field\n",
    "  vioAmtShape.set_index(\"NTA\", inplace=True)\n",
    "\n",
    "\n",
    "# Use the choropleth_mapbox and it's attributes to set desired visual properties\n",
    "  figPxChoro = px.choropleth_mapbox(vioAmtShape,\n",
    "                        geojson=vioAmtShape.geometry,\n",
    "                        locations=vioAmtShape.index,\n",
    "                        color=\"Count\",\n",
    "                        color_continuous_scale=px.colors.sequential.Teal, \n",
    "                        \n",
    "                        center={\"lat\": 40.754932, \"lon\": -73.984016}, \n",
    "                        mapbox_style=\"carto-positron\",\n",
    "                        zoom=9)\n",
    "\n",
    "# Return the figure container\n",
    "  return figPxChoro"
   ]
  },
  {
   "cell_type": "code",
   "execution_count": 50,
   "metadata": {},
   "outputs": [
    {
     "name": "stdout",
     "output_type": "stream",
     "text": [
      "Launching server at http://localhost:43315\n"
     ]
    },
    {
     "data": {
      "text/plain": [
       "<panel.io.server.Server at 0x7f22b69e7df0>"
      ]
     },
     "execution_count": 50,
     "metadata": {},
     "output_type": "execute_result"
    }
   ],
   "source": [
    "# create a gridspec \n",
    "autoGS = pn.GridSpec(sizing_mode='stretch_both', width=300, height=300)\n",
    "\n",
    "autoGS[0,0] = pn.Column(first_select, margin=0)\n",
    "autoGS[0,1:3] = pn.Column(violation_length_plot, margin=0, align=\"center\")\n",
    "\n",
    "autoGS[1,0] = pn.Column(second_select, margin=0)\n",
    "autoGS[1,1:3] = pn.Column(violations_by_borough_plot, margin=0, align=\"center\")\n",
    "\n",
    "autoGS[2,0] = pn.Column(uZip, margin=0)\n",
    "autoGS[2,1:3] = pn.Column(plotly_vioMap, margin=0, align=\"center\")\n",
    "\n",
    "# autoGS[4,0:3] = pn.Column(figVioPxChoro, margin=0, align=\"center\")\n",
    "autoGS[4, :3] = pn.Spacer(background='#0000')\n",
    "\n",
    "autoGS[5,0] = pn.Column(vioSlider, margin=0)\n",
    "autoGS[5,1] = pn.Column(plotly_violationSliderChoroMap, margin=0, align=\"center\")\n",
    "\n",
    "autoGS[6, :3] = pn.Spacer(background='#0000')\n",
    "\n",
    "\n",
    "autoGS[7,0] = pn.Column(uNTAcode, margin=0)\n",
    "autoGS[7,1] = pn.Column(plotly_violationChoroMap, margin=0, align=\"center\")\n",
    "# Launch the viz as an app in a separate browser window with .show()\n",
    "autoGS.show()"
   ]
  }
 ],
 "metadata": {
  "kernelspec": {
   "display_name": "Python 3.8.5 64-bit",
   "language": "python",
   "name": "python3"
  },
  "language_info": {
   "codemirror_mode": {
    "name": "ipython",
    "version": 3
   },
   "file_extension": ".py",
   "mimetype": "text/x-python",
   "name": "python",
   "nbconvert_exporter": "python",
   "pygments_lexer": "ipython3",
   "version": "3.8.5"
  },
  "orig_nbformat": 4,
  "vscode": {
   "interpreter": {
    "hash": "916dbcbb3f70747c44a77c7bcd40155683ae19c65e1c03b4aa3499c5328201f1"
   }
  }
 },
 "nbformat": 4,
 "nbformat_minor": 2
}
